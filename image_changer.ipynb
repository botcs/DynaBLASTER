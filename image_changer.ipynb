{
 "cells": [
  {
   "cell_type": "code",
   "execution_count": 5,
   "metadata": {},
   "outputs": [],
   "source": [
    "from PIL import Image, ImageTk"
   ]
  },
  {
   "cell_type": "code",
   "execution_count": 7,
   "metadata": {},
   "outputs": [],
   "source": [
    "x = Image.open('png/1back0.png')"
   ]
  },
  {
   "cell_type": "code",
   "execution_count": 11,
   "metadata": {},
   "outputs": [],
   "source": [
    "r, g, b, a = x.split()"
   ]
  },
  {
   "cell_type": "code",
   "execution_count": 15,
   "metadata": {},
   "outputs": [
    {
     "data": {
      "image/png": "[encoded data removed]",
      "text/plain": [
       "<PIL.Image.Image image mode=L size=50x44 at 0x7F27961770F0>"
      ]
     },
     "execution_count": 15,
     "metadata": {},
     "output_type": "execute_result"
    }
   ],
   "source": [
    "r"
   ]
  },
  {
   "cell_type": "code",
   "execution_count": 11,
   "metadata": {},
   "outputs": [],
   "source": [
    "import cv2\n",
    "import numpy as np\n",
    "from matplotlib import pyplot as plt\n",
    "%matplotlib inline"
   ]
  },
  {
   "cell_type": "code",
   "execution_count": 29,
   "metadata": {},
   "outputs": [
    {
     "data": {
      "text/plain": [
       "<matplotlib.image.AxesImage at 0x7f5815a1dc18>"
      ]
     },
     "execution_count": 29,
     "metadata": {},
     "output_type": "execute_result"
    },
    {
     "data": {
      "image/png": "[encoded data removed]",
      "text/plain": [
       "<matplotlib.figure.Figure at 0x7f5815a4ae10>"
      ]
     },
     "metadata": {},
     "output_type": "display_data"
    }
   ],
   "source": [
    "x = cv2.imread('png/1back0.png', cv2.IMREAD_UNCHANGED)\n",
    "x = cv2.cvtColor(x, cv2.COLOR_BGRA2RGBA)\n",
    "r = np.multiply(x, np.array([1, 0, 0, 1], dtype='uint8'))\n",
    "plt.imshow(r)"
   ]
  },
  {
   "cell_type": "code",
   "execution_count": 162,
   "metadata": {},
   "outputs": [
    {
     "data": {
      "text/plain": [
       "True"
      ]
     },
     "execution_count": 162,
     "metadata": {},
     "output_type": "execute_result"
    },
    {
     "data": {
      "image/png": "[encoded data removed]",
      "text/plain": [
       "<matplotlib.figure.Figure at 0x7f5815844eb8>"
      ]
     },
     "metadata": {},
     "output_type": "display_data"
    }
   ],
   "source": [
    "x = cv2.imread('png/1back0.png', cv2.IMREAD_UNCHANGED)\n",
    "x = cv2.cvtColor(x, cv2.COLOR_BGRA2RGBA)\n",
    "g = np.multiply(x, np.array([0, 1, 0, 1], dtype='uint8'))\n",
    "plt.imshow(x)\n",
    "cv2.imwrite('test.png', g)"
   ]
  },
  {
   "cell_type": "code",
   "execution_count": 76,
   "metadata": {},
   "outputs": [],
   "source": [
    "def im2blue(fname, new_player_id=3, write=True):\n",
    "    dir_name = fname[:fname.find('/')+1]\n",
    "    player_id = fname[fname.find('/')+1 : fname.find('/')+2]\n",
    "    action_id = fname[fname.find('/')+2 : fname.find('/')+6]\n",
    "    animat_id = fname[fname.find('/')+6 : fname.find('.png')]\n",
    "    \n",
    "    x = cv2.imread(fname, cv2.IMREAD_UNCHANGED)\n",
    "    x = cv2.cvtColor(x, cv2.COLOR_BGRA2RGBA)\n",
    "    b = np.multiply(x, np.array([1, 0, 0, 1], dtype='uint8'))\n",
    "    new_fname = dir_name + str(new_player_id) + action_id + animat_id + '.png'\n",
    "    if write:\n",
    "        cv2.imwrite(dir_name + str(new_player_id) + action_id + animat_id + '.png', b)\n",
    "        print(\"Saved to: `%s`\" % new_fname)\n",
    "    return b"
   ]
  },
  {
   "cell_type": "code",
   "execution_count": 69,
   "metadata": {},
   "outputs": [
    {
     "name": "stdout",
     "output_type": "stream",
     "text": [
      "Saved to: `png/3back0.png`\n"
     ]
    },
    {
     "data": {
      "text/plain": [
       "<matplotlib.image.AxesImage at 0x7f5814073be0>"
      ]
     },
     "execution_count": 69,
     "metadata": {},
     "output_type": "execute_result"
    },
    {
     "data": {
      "image/png": "[encoded data removed]",
      "text/plain": [
       "<matplotlib.figure.Figure at 0x7f5814520b00>"
      ]
     },
     "metadata": {},
     "output_type": "display_data"
    }
   ],
   "source": [
    "plt.imshow(im2blue('png/1back0.png'))"
   ]
  },
  {
   "cell_type": "code",
   "execution_count": 70,
   "metadata": {},
   "outputs": [],
   "source": [
    "from glob import glob "
   ]
  },
  {
   "cell_type": "code",
   "execution_count": 73,
   "metadata": {},
   "outputs": [
    {
     "name": "stdout",
     "output_type": "stream",
     "text": [
      "Saved to: `png/3right0.png`\n",
      "Saved to: `png/3left1.png`\n",
      "Saved to: `png/3right1.png`\n",
      "Saved to: `png/3dead0.png`\n",
      "Saved to: `png/3forw0.png`\n",
      "Saved to: `png/3left2.png`\n",
      "Saved to: `png/3back0.png`\n",
      "Saved to: `png/3dead3.png`\n",
      "Saved to: `png/3dead5.png`\n",
      "Saved to: `png/3forw2.png`\n",
      "Saved to: `png/3dead6.png`\n",
      "Saved to: `png/3dead4.png`\n",
      "Saved to: `png/3dead1.png`\n",
      "Saved to: `png/3forw1.png`\n",
      "Saved to: `png/3dead2.png`\n",
      "Saved to: `png/3back1.png`\n",
      "Saved to: `png/3right2.png`\n",
      "Saved to: `png/3left0.png`\n",
      "Saved to: `png/3dead7.png`\n",
      "Saved to: `png/3back2.png`\n"
     ]
    }
   ],
   "source": [
    "for fname in glob('png/1*.png'):\n",
    "    im2blue(fname)"
   ]
  },
  {
   "cell_type": "code",
   "execution_count": 77,
   "metadata": {},
   "outputs": [
    {
     "name": "stdout",
     "output_type": "stream",
     "text": [
      "Saved to: `png/3aceicon1.png`\n"
     ]
    },
    {
     "data": {
      "text/plain": [
       "<matplotlib.image.AxesImage at 0x7f5814037278>"
      ]
     },
     "execution_count": 77,
     "metadata": {},
     "output_type": "execute_result"
    },
    {
     "data": {
      "image/png": "[encoded data removed]",
      "text/plain": [
       "<matplotlib.figure.Figure at 0x7f581407c940>"
      ]
     },
     "metadata": {},
     "output_type": "display_data"
    }
   ],
   "source": [
    "plt.imshow(im2blue('png/faceicon1.png'))"
   ]
  },
  {
   "cell_type": "code",
   "execution_count": null,
   "metadata": {},
   "outputs": [],
   "source": []
  },
  {
   "cell_type": "code",
   "execution_count": 160,
   "metadata": {},
   "outputs": [],
   "source": [
    "def im2gray(fname, new_player_id=4, write=True):\n",
    "    dir_name = fname[:fname.find('/')+1]\n",
    "    player_id = fname[fname.find('/')+1 : fname.find('/')+2]\n",
    "    action_id = fname[fname.find('/')+2 : fname.find('/')+6]\n",
    "    animat_id = fname[fname.find('/')+6 : fname.find('.png')]\n",
    "    \n",
    "    x = cv2.imread(fname, cv2.IMREAD_UNCHANGED)\n",
    "    g = cv2.cvtColor(x, cv2.COLOR_BGRA2GRAY)\n",
    "    x[:, :, :-1] = g[..., None]*4\n",
    "    \n",
    "    new_fname = dir_name + str(new_player_id) + action_id + animat_id + '.png'\n",
    "    if write:\n",
    "        cv2.imwrite(dir_name + str(new_player_id) + action_id + animat_id + '.png', x)\n",
    "        print(\"Saved to: `%s`\" % new_fname)\n",
    "    return x"
   ]
  },
  {
   "cell_type": "code",
   "execution_count": 161,
   "metadata": {},
   "outputs": [
    {
     "name": "stdout",
     "output_type": "stream",
     "text": [
      "Saved to: `png/4dead7.png`\n",
      "Saved to: `png/4back2.png`\n",
      "Saved to: `png/4dead0.png`\n",
      "Saved to: `png/4left2.png`\n",
      "Saved to: `png/4dead2.png`\n",
      "Saved to: `png/4left0.png`\n",
      "Saved to: `png/4forw0.png`\n",
      "Saved to: `png/4back1.png`\n",
      "Saved to: `png/4right2.png`\n",
      "Saved to: `png/4right1.png`\n",
      "Saved to: `png/4dead1.png`\n",
      "Saved to: `png/4left1.png`\n",
      "Saved to: `png/4dead4.png`\n",
      "Saved to: `png/4forw1.png`\n",
      "Saved to: `png/4forw2.png`\n",
      "Saved to: `png/4right0.png`\n",
      "Saved to: `png/4back0.png`\n",
      "Saved to: `png/4dead6.png`\n",
      "Saved to: `png/4dead3.png`\n",
      "Saved to: `png/4dead5.png`\n"
     ]
    }
   ],
   "source": [
    "for fname in glob('png/2*.png'):\n",
    "    im2gray(fname)"
   ]
  },
  {
   "cell_type": "code",
   "execution_count": 159,
   "metadata": {},
   "outputs": [
    {
     "name": "stdout",
     "output_type": "stream",
     "text": [
      "Saved to: `png/4aceicon1.png`\n"
     ]
    },
    {
     "data": {
      "text/plain": [
       "array([[[160, 160, 160,   0],\n",
       "        [160, 160, 160,   0],\n",
       "        [160, 160, 160,   0],\n",
       "        ..., \n",
       "        [160, 160, 160,   0],\n",
       "        [160, 160, 160,   0],\n",
       "        [160, 160, 160,   0]],\n",
       "\n",
       "       [[160, 160, 160,   0],\n",
       "        [160, 160, 160,   0],\n",
       "        [160, 160, 160,   0],\n",
       "        ..., \n",
       "        [160, 160, 160,   0],\n",
       "        [160, 160, 160,   0],\n",
       "        [160, 160, 160,   0]],\n",
       "\n",
       "       [[160, 160, 160,   0],\n",
       "        [160, 160, 160,   0],\n",
       "        [160, 160, 160,   0],\n",
       "        ..., \n",
       "        [160, 160, 160,   0],\n",
       "        [160, 160, 160,   0],\n",
       "        [160, 160, 160,   0]],\n",
       "\n",
       "       ..., \n",
       "       [[160, 160, 160,   0],\n",
       "        [128, 128, 128, 255],\n",
       "        [128, 128, 128, 255],\n",
       "        ..., \n",
       "        [128, 128, 128, 255],\n",
       "        [128, 128, 128, 255],\n",
       "        [160, 160, 160,   0]],\n",
       "\n",
       "       [[160, 160, 160,   0],\n",
       "        [128, 128, 128, 255],\n",
       "        [128, 128, 128, 255],\n",
       "        ..., \n",
       "        [128, 128, 128, 255],\n",
       "        [128, 128, 128, 255],\n",
       "        [160, 160, 160,   0]],\n",
       "\n",
       "       [[160, 160, 160,   0],\n",
       "        [128, 128, 128, 255],\n",
       "        [128, 128, 128, 255],\n",
       "        ..., \n",
       "        [128, 128, 128, 255],\n",
       "        [128, 128, 128, 255],\n",
       "        [160, 160, 160,   0]]], dtype=uint8)"
      ]
     },
     "execution_count": 159,
     "metadata": {},
     "output_type": "execute_result"
    }
   ],
   "source": [
    "im2gray('png/faceicon1.png')"
   ]
  },
  {
   "cell_type": "code",
   "execution_count": 150,
   "metadata": {},
   "outputs": [
    {
     "data": {
      "text/plain": [
       "<matplotlib.image.AxesImage at 0x7f58050d46d8>"
      ]
     },
     "execution_count": 150,
     "metadata": {},
     "output_type": "execute_result"
    },
    {
     "data": {
      "image/png": "[encoded data removed]",
      "text/plain": [
       "<matplotlib.figure.Figure at 0x7f5805128cc0>"
      ]
     },
     "metadata": {},
     "output_type": "display_data"
    }
   ],
   "source": [
    "plt.imshow(g)"
   ]
  },
  {
   "cell_type": "code",
   "execution_count": null,
   "metadata": {},
   "outputs": [],
   "source": []
  }
 ],
 "metadata": {
  "kernelspec": {
   "display_name": "Python 3",
   "language": "python",
   "name": "python3"
  },
  "language_info": {
   "codemirror_mode": {
    "name": "ipython",
    "version": 3
   },
   "file_extension": ".py",
   "mimetype": "text/x-python",
   "name": "python",
   "nbconvert_exporter": "python",
   "pygments_lexer": "ipython3",
   "version": "3.5.2"
  }
 },
 "nbformat": 4,
 "nbformat_minor": 2
}
